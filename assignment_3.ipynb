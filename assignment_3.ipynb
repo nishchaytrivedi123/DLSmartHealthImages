{
  "nbformat": 4,
  "nbformat_minor": 0,
  "metadata": {
    "colab": {
      "name": "assignment_3.ipynb",
      "provenance": [],
      "collapsed_sections": []
    },
    "kernelspec": {
      "name": "python3",
      "display_name": "Python 3"
    },
    "accelerator": "GPU"
  },
  "cells": [
    {
      "cell_type": "code",
      "metadata": {
        "id": "UwvXiR7QLuht",
        "colab_type": "code",
        "colab": {}
      },
      "source": [
        "import os\n",
        "import cv2\n",
        "import numpy as np \n",
        "import matplotlib.pyplot as plt\n",
        "from sklearn.metrics import accuracy_score, f1_score, precision_score, recall_score, classification_report, confusion_matrix\n",
        "\n",
        "import tensorflow as tf\n",
        "from tensorflow import keras\n",
        "from tensorflow.keras import layers\n",
        "from tensorflow.keras.models import Sequential, load_model\n",
        "from tensorflow.keras.layers import Dense\n",
        "from tensorflow.keras.utils import to_categorical\n",
        "from keras.preprocessing.image import ImageDataGenerator\n",
        "from tensorflow.keras.layers import Dropout\n",
        "from tensorflow.keras.layers import Flatten,BatchNormalization\n",
        "from tensorflow.keras.callbacks import ModelCheckpoint, EarlyStopping\n",
        "from tensorflow.keras.layers import Convolution2D,Conv2D\n",
        "from tensorflow.keras.layers import MaxPooling2D\n",
        "from tensorflow.compat.v1 import ConfigProto\n",
        "from tensorflow.compat.v1 import InteractiveSession\n",
        "from keras import optimizers\n",
        "from keras.models import Model,load_model\n",
        "from sklearn.metrics import plot_confusion_matrix\n",
        "\n",
        "from sklearn.preprocessing import OneHotEncoder,LabelEncoder\n",
        "from sklearn.model_selection import train_test_split\n",
        "from sklearn.model_selection import StratifiedKFold"
      ],
      "execution_count": 69,
      "outputs": []
    },
    {
      "cell_type": "code",
      "metadata": {
        "id": "1R578jx_MN0L",
        "colab_type": "code",
        "colab": {
          "base_uri": "https://localhost:8080/",
          "height": 122
        },
        "outputId": "567d29f1-619b-484d-cbb7-74f1fb590d0f"
      },
      "source": [
        "from google.colab import drive\n",
        "drive.mount('/content/drive/')"
      ],
      "execution_count": 2,
      "outputs": [
        {
          "output_type": "stream",
          "text": [
            "Go to this URL in a browser: https://accounts.google.com/o/oauth2/auth?client_id=947318989803-6bn6qk8qdgf4n4g3pfee6491hc0brc4i.apps.googleusercontent.com&redirect_uri=urn%3aietf%3awg%3aoauth%3a2.0%3aoob&response_type=code&scope=email%20https%3a%2f%2fwww.googleapis.com%2fauth%2fdocs.test%20https%3a%2f%2fwww.googleapis.com%2fauth%2fdrive%20https%3a%2f%2fwww.googleapis.com%2fauth%2fdrive.photos.readonly%20https%3a%2f%2fwww.googleapis.com%2fauth%2fpeopleapi.readonly\n",
            "\n",
            "Enter your authorization code:\n",
            "··········\n",
            "Mounted at /content/drive/\n"
          ],
          "name": "stdout"
        }
      ]
    },
    {
      "cell_type": "code",
      "metadata": {
        "id": "bp0BybM-MWgz",
        "colab_type": "code",
        "colab": {
          "base_uri": "https://localhost:8080/",
          "height": 34
        },
        "outputId": "d8e6052a-f0c1-422d-c1ba-630f5b609db1"
      },
      "source": [
        "root_path = '/content/drive/My Drive/Smart Health/Assignment3/DS/'\n",
        "files = os.listdir(root_path)\n",
        "X = []\n",
        "Y = []\n",
        "for f in files:\n",
        "  tmp_class_num = None\n",
        "  if f[0] == 'A':\n",
        "    tmp_class_num = 0\n",
        "  elif f[0] == 'C':\n",
        "    tmp_class_num = 1\n",
        "  elif f[0] == 'H':\n",
        "    tmp_class_num = 2\n",
        "  \n",
        "  file_path = root_path + f\n",
        "  img_arr = cv2.imread(file_path, cv2.IMREAD_GRAYSCALE)\n",
        "  resized_arr = cv2.resize(img_arr, (32, 32))\n",
        "  X.append(resized_arr)\n",
        "  Y.append(tmp_class_num)\n",
        "\n",
        "\n",
        "print(type(X), len(X), len(X[0]), len(X[1]))"
      ],
      "execution_count": 42,
      "outputs": [
        {
          "output_type": "stream",
          "text": [
            "<class 'list'> 1510 32 32\n"
          ],
          "name": "stdout"
        }
      ]
    },
    {
      "cell_type": "code",
      "metadata": {
        "id": "sSSS5fg3QMYj",
        "colab_type": "code",
        "colab": {
          "base_uri": "https://localhost:8080/",
          "height": 34
        },
        "outputId": "2e007f61-91eb-4061-dddd-db40d09930c5"
      },
      "source": [
        "X = np.array(X)\n",
        "Y = np.array(Y)\n",
        "\n",
        "print(X.shape,\"   \",Y.shape)"
      ],
      "execution_count": 43,
      "outputs": [
        {
          "output_type": "stream",
          "text": [
            "(1510, 32, 32)     (1510,)\n"
          ],
          "name": "stdout"
        }
      ]
    },
    {
      "cell_type": "code",
      "metadata": {
        "id": "4Qx2DyoMQQsp",
        "colab_type": "code",
        "colab": {
          "base_uri": "https://localhost:8080/",
          "height": 34
        },
        "outputId": "ef65623d-8801-4b42-bc95-14bec3f5afbb"
      },
      "source": [
        "\n",
        "X = X / 255\n",
        "\n",
        "\n",
        "X.shape"
      ],
      "execution_count": 44,
      "outputs": [
        {
          "output_type": "execute_result",
          "data": {
            "text/plain": [
              "(1510, 32, 32)"
            ]
          },
          "metadata": {
            "tags": []
          },
          "execution_count": 44
        }
      ]
    },
    {
      "cell_type": "code",
      "metadata": {
        "id": "0Q_TLUucK39n",
        "colab_type": "code",
        "colab": {}
      },
      "source": [
        ""
      ],
      "execution_count": null,
      "outputs": []
    },
    {
      "cell_type": "code",
      "metadata": {
        "id": "L7EDWCOtQVVr",
        "colab_type": "code",
        "colab": {}
      },
      "source": [
        "X_train, X_test, Y_train, Y_test = train_test_split(X, Y, test_size=0.3, random_state=54)"
      ],
      "execution_count": 45,
      "outputs": []
    },
    {
      "cell_type": "code",
      "metadata": {
        "id": "wrjA6vLPX3WQ",
        "colab_type": "code",
        "colab": {}
      },
      "source": [
        "datagen = ImageDataGenerator(\n",
        "    featurewise_center=True,\n",
        "    featurewise_std_normalization=True,\n",
        "    rotation_range=20,\n",
        "    width_shift_range=0.2,\n",
        "    height_shift_range=0.2,\n",
        "    horizontal_flip=True)"
      ],
      "execution_count": 46,
      "outputs": []
    },
    {
      "cell_type": "code",
      "metadata": {
        "id": "oR-7ah8kX45q",
        "colab_type": "code",
        "colab": {}
      },
      "source": [
        ""
      ],
      "execution_count": 49,
      "outputs": []
    },
    {
      "cell_type": "code",
      "metadata": {
        "id": "DzoTdiuiQXLG",
        "colab_type": "code",
        "colab": {
          "base_uri": "https://localhost:8080/",
          "height": 34
        },
        "outputId": "46a390a6-8436-4793-eb79-4aace13e6485"
      },
      "source": [
        "\n",
        "label_a = 0\n",
        "label_b = 0\n",
        "label_c = 0\n",
        "for i in Y_train:\n",
        "  if i==0:\n",
        "    label_a = label_a +1\n",
        "  \n",
        "  if i==1:\n",
        "    label_b = label_b +1\n",
        "  \n",
        "  if i==2:\n",
        "    label_c = label_c +1\n",
        "\n",
        "print(label_a,\"   \",label_b,\"  \",label_c)"
      ],
      "execution_count": 47,
      "outputs": [
        {
          "output_type": "stream",
          "text": [
            "348     367    342\n"
          ],
          "name": "stdout"
        }
      ]
    },
    {
      "cell_type": "code",
      "metadata": {
        "id": "rIYMo5hkQYfU",
        "colab_type": "code",
        "colab": {
          "base_uri": "https://localhost:8080/",
          "height": 624
        },
        "outputId": "403ec6b1-74cc-4e9a-df08-c4eedbecdec8"
      },
      "source": [
        "plt.figure(figsize = (10, 10))\n",
        "plt.imshow(X[0], cmap='gray')\n",
        "plt.title(Y[0])"
      ],
      "execution_count": 48,
      "outputs": [
        {
          "output_type": "execute_result",
          "data": {
            "text/plain": [
              "Text(0.5, 1.0, '1')"
            ]
          },
          "metadata": {
            "tags": []
          },
          "execution_count": 48
        },
        {
          "output_type": "display_data",
          "data": {
            "image/png": "[encoded data removed]",
            "text/plain": [
              "<Figure size 720x720 with 1 Axes>"
            ]
          },
          "metadata": {
            "tags": [],
            "needs_background": "light"
          }
        }
      ]
    },
    {
      "cell_type": "code",
      "metadata": {
        "id": "oX4d3sFuQakR",
        "colab_type": "code",
        "colab": {}
      },
      "source": [
        "activationFunction = 'relu'\n",
        "def getModel():\n",
        "    model = Sequential()\n",
        "    \n",
        "    model.add(Conv2D(64, kernel_size = (5, 5), activation=activationFunction, input_shape=(32, 32, 1)))\n",
        "    model.add(MaxPooling2D(pool_size=(2,2)))\n",
        "    # model.add(Dropout(0.1))\n",
        "\n",
        "    model.add(Conv2D(32, kernel_size=(3,3), activation=activationFunction))\n",
        "    model.add(MaxPooling2D(pool_size=(2,2)))\n",
        "    # model.add(Dropout(0.1))\n",
        "    \n",
        "    model.add(Conv2D(16, kernel_size=(3,3), activation=activationFunction))\n",
        "    model.add(MaxPooling2D(pool_size=(2,2)))\n",
        "    # model.add(Dropout(0.1))\n",
        "    \n",
        "    model.add(Flatten())\n",
        "    model.add(Dense(100, activation=activationFunction, name ='feature_dense'))\n",
        "    model.add(Dense(3, activation = 'softmax'))\n",
        "    model.compile(optimizer='adam', loss='sparse_categorical_crossentropy', metrics=['accuracy'])\n",
        "    \n",
        "    return model\n",
        "\n",
        "model = getModel()"
      ],
      "execution_count": 49,
      "outputs": []
    },
    {
      "cell_type": "code",
      "metadata": {
        "id": "kGWpmOYIQgJ8",
        "colab_type": "code",
        "colab": {}
      },
      "source": [
        "def show_results(test, pred):\n",
        "    target = ['A', 'C', 'H']\n",
        "    print(classification_report(test, pred, target_names=target))\n",
        "    accuracy = accuracy_score(test, pred)\n",
        "    precision=precision_score(test, pred, average='weighted')\n",
        "    f1Score=f1_score(test, pred, average='weighted') \n",
        "    print(\"Accuracy  : {}\".format(accuracy))\n",
        "    print(\"Precision : {}\".format(precision))\n",
        "    print(\"f1Score : {}\".format(f1Score))\n",
        "    confusion_mat=confusion_matrix(test, pred)\n",
        "    print(confusion_mat)\n",
        "    return {'accuracy':accuracy, 'precision':precision, 'f1Score':f1Score}"
      ],
      "execution_count": 50,
      "outputs": []
    },
    {
      "cell_type": "code",
      "metadata": {
        "id": "65LkdJunYOo0",
        "colab_type": "code",
        "colab": {
          "base_uri": "https://localhost:8080/",
          "height": 34
        },
        "outputId": "8bb0553e-1600-45c4-83c8-51022ac57fc9"
      },
      "source": [
        "X_train = np.expand_dims(X_train, axis = 3)\n",
        "X_test = np.expand_dims(X_test, axis = 3)\n",
        "print(X_train.shape, X_test.shape, Y_train.shape, Y_test.shape)"
      ],
      "execution_count": 51,
      "outputs": [
        {
          "output_type": "stream",
          "text": [
            "(1057, 32, 32, 1) (453, 32, 32, 1) (1057,) (453,)\n"
          ],
          "name": "stdout"
        }
      ]
    },
    {
      "cell_type": "code",
      "metadata": {
        "id": "IIxpG4BLZbcw",
        "colab_type": "code",
        "colab": {}
      },
      "source": [
        "datagen.fit(X_train)"
      ],
      "execution_count": 52,
      "outputs": []
    },
    {
      "cell_type": "code",
      "metadata": {
        "id": "WDVuRVnXQlyK",
        "colab_type": "code",
        "colab": {
          "base_uri": "https://localhost:8080/",
          "height": 374
        },
        "outputId": "deecfad4-8bb9-4107-ff37-14531e0299f3"
      },
      "source": [
        "model.fit(datagen.flow(X_train, Y_train, batch_size=32), \n",
        "                    epochs=10)\n",
        "\n",
        "# model.save('/content/drive/My Drive/Smart Health/Assignment3/1106924.h5')"
      ],
      "execution_count": 53,
      "outputs": [
        {
          "output_type": "stream",
          "text": [
            "Epoch 1/10\n",
            "34/34 [==============================] - 0s 9ms/step - loss: 0.3553 - accuracy: 0.9290\n",
            "Epoch 2/10\n",
            "34/34 [==============================] - 0s 9ms/step - loss: 0.0027 - accuracy: 1.0000\n",
            "Epoch 3/10\n",
            "34/34 [==============================] - 0s 9ms/step - loss: 0.0067 - accuracy: 0.9981\n",
            "Epoch 4/10\n",
            "34/34 [==============================] - 0s 9ms/step - loss: 0.0012 - accuracy: 1.0000\n",
            "Epoch 5/10\n",
            "34/34 [==============================] - 0s 9ms/step - loss: 2.1450e-04 - accuracy: 1.0000\n",
            "Epoch 6/10\n",
            "34/34 [==============================] - 0s 9ms/step - loss: 1.6819e-04 - accuracy: 1.0000\n",
            "Epoch 7/10\n",
            "34/34 [==============================] - 0s 9ms/step - loss: 0.0086 - accuracy: 0.9962\n",
            "Epoch 8/10\n",
            "34/34 [==============================] - 0s 9ms/step - loss: 0.0056 - accuracy: 0.9981\n",
            "Epoch 9/10\n",
            "34/34 [==============================] - 0s 9ms/step - loss: 8.7875e-04 - accuracy: 1.0000\n",
            "Epoch 10/10\n",
            "34/34 [==============================] - 0s 9ms/step - loss: 1.7008e-04 - accuracy: 1.0000\n"
          ],
          "name": "stdout"
        },
        {
          "output_type": "execute_result",
          "data": {
            "text/plain": [
              "<tensorflow.python.keras.callbacks.History at 0x7f9b2753c710>"
            ]
          },
          "metadata": {
            "tags": []
          },
          "execution_count": 53
        }
      ]
    },
    {
      "cell_type": "code",
      "metadata": {
        "id": "oFTNd4wkfDvb",
        "colab_type": "code",
        "colab": {}
      },
      "source": [
        "# model = load_model('/content/drive/My Drive/Smart Health/Assignment3/1106924.h5')"
      ],
      "execution_count": 195,
      "outputs": []
    },
    {
      "cell_type": "code",
      "metadata": {
        "id": "WEv39djyQw9V",
        "colab_type": "code",
        "colab": {
          "base_uri": "https://localhost:8080/",
          "height": 459
        },
        "outputId": "7574bc9c-33a7-40f4-deb4-e7ff8ff18a3f"
      },
      "source": [
        "intermediate_layer_train = Model(inputs=model.input,\n",
        "                                 outputs=model.get_layer('feature_dense').output)\n",
        "\n",
        "intermediate_layer_train.summary()"
      ],
      "execution_count": 54,
      "outputs": [
        {
          "output_type": "stream",
          "text": [
            "Model: \"functional_3\"\n",
            "_________________________________________________________________\n",
            "Layer (type)                 Output Shape              Param #   \n",
            "=================================================================\n",
            "conv2d_3_input (InputLayer)  [(None, 32, 32, 1)]       0         \n",
            "_________________________________________________________________\n",
            "conv2d_3 (Conv2D)            (None, 28, 28, 64)        1664      \n",
            "_________________________________________________________________\n",
            "max_pooling2d_3 (MaxPooling2 (None, 14, 14, 64)        0         \n",
            "_________________________________________________________________\n",
            "conv2d_4 (Conv2D)            (None, 12, 12, 32)        18464     \n",
            "_________________________________________________________________\n",
            "max_pooling2d_4 (MaxPooling2 (None, 6, 6, 32)          0         \n",
            "_________________________________________________________________\n",
            "conv2d_5 (Conv2D)            (None, 4, 4, 16)          4624      \n",
            "_________________________________________________________________\n",
            "max_pooling2d_5 (MaxPooling2 (None, 2, 2, 16)          0         \n",
            "_________________________________________________________________\n",
            "flatten_1 (Flatten)          (None, 64)                0         \n",
            "_________________________________________________________________\n",
            "feature_dense (Dense)        (None, 100)               6500      \n",
            "=================================================================\n",
            "Total params: 31,252\n",
            "Trainable params: 31,252\n",
            "Non-trainable params: 0\n",
            "_________________________________________________________________\n"
          ],
          "name": "stdout"
        }
      ]
    },
    {
      "cell_type": "code",
      "metadata": {
        "id": "0J13i49NQz1A",
        "colab_type": "code",
        "colab": {
          "base_uri": "https://localhost:8080/",
          "height": 34
        },
        "outputId": "ec273754-d7e7-46f6-a6cf-a2a3fd97d3c7"
      },
      "source": [
        "X_train_feat = intermediate_layer_train.predict(X_train)\n",
        "X_test_feat = intermediate_layer_train.predict(X_test)\n",
        "\n",
        "print(X_test_feat.shape,\"   \",X_train_feat.shape)"
      ],
      "execution_count": 55,
      "outputs": [
        {
          "output_type": "stream",
          "text": [
            "(453, 100)     (1057, 100)\n"
          ],
          "name": "stdout"
        }
      ]
    },
    {
      "cell_type": "code",
      "metadata": {
        "id": "SsSQ-GoNQ0wC",
        "colab_type": "code",
        "colab": {}
      },
      "source": [
        "from sklearn.neighbors import KNeighborsClassifier\n",
        "from sklearn.model_selection import GridSearchCV\n",
        "from sklearn.metrics import accuracy_score\n",
        "from sklearn.ensemble import RandomForestClassifier\n",
        "from sklearn.model_selection import RandomizedSearchCV"
      ],
      "execution_count": 56,
      "outputs": []
    },
    {
      "cell_type": "code",
      "metadata": {
        "id": "-X_WUo6hQ4cW",
        "colab_type": "code",
        "colab": {
          "base_uri": "https://localhost:8080/",
          "height": 649
        },
        "outputId": "c9863d63-c2a7-4faf-eaf1-fe7bc1983ea7"
      },
      "source": [
        "knn = KNeighborsClassifier()\n",
        "k_range = [3, 5, 7, 9]\n",
        "param_grid = dict(n_neighbors=k_range)\n",
        "grid = GridSearchCV(knn, param_grid, cv=5, scoring='accuracy')\n",
        "\n",
        "testing_acc = []\n",
        "testing_f1 = []\n",
        "testing_precision = []\n",
        "for k in k_range:\n",
        "  k_object = KNeighborsClassifier(n_neighbors=k)\n",
        "  k_object.fit(X_train_feat, Y_train)\n",
        "  y_pred = k_object.predict(X_test_feat)  \n",
        "  accuracy = accuracy_score(Y_test, y_pred)\n",
        "  precision = precision_score(Y_test, y_pred, average='weighted')\n",
        "  f1Score = f1_score(Y_test, y_pred, average='weighted') \n",
        "  testing_acc.append(accuracy)\n",
        "  testing_f1.append(f1Score)\n",
        "  testing_precision.append(precision)\n",
        "\n",
        "%matplotlib inline \n",
        "fig = plt.figure(figsize=(10,7))\n",
        "fig.suptitle('k values v/s performance')\n",
        "\n",
        "ax1 = fig.add_subplot(311)\n",
        "ax2 = fig.add_subplot(312)\n",
        "ax3 = fig.add_subplot(313)\n",
        "ax1.plot(k_range, testing_acc,'b',label='Accuracy')\n",
        "ax2.plot(k_range, testing_f1,'r',label='Precision')\n",
        "ax3.plot(k_range, testing_precision,'m',label='F1 score')\n",
        "\n",
        "ax1.legend()\n",
        "ax2.legend()\n",
        "ax3.legend()\n",
        "\n",
        "knn_obj = KNeighborsClassifier(n_neighbors=3)    \n",
        "knn_obj.fit(X_train_feat, Y_train)\n",
        "\n",
        "grid.fit(X_train_feat, Y_train)"
      ],
      "execution_count": 57,
      "outputs": [
        {
          "output_type": "execute_result",
          "data": {
            "text/plain": [
              "GridSearchCV(cv=5, error_score=nan,\n",
              "             estimator=KNeighborsClassifier(algorithm='auto', leaf_size=30,\n",
              "                                            metric='minkowski',\n",
              "                                            metric_params=None, n_jobs=None,\n",
              "                                            n_neighbors=5, p=2,\n",
              "                                            weights='uniform'),\n",
              "             iid='deprecated', n_jobs=None,\n",
              "             param_grid={'n_neighbors': [3, 5, 7, 9]}, pre_dispatch='2*n_jobs',\n",
              "             refit=True, return_train_score=False, scoring='accuracy',\n",
              "             verbose=0)"
            ]
          },
          "metadata": {
            "tags": []
          },
          "execution_count": 57
        },
        {
          "output_type": "display_data",
          "data": {
            "image/png": "[encoded data removed]",
            "text/plain": [
              "<Figure size 720x504 with 3 Axes>"
            ]
          },
          "metadata": {
            "tags": [],
            "needs_background": "light"
          }
        }
      ]
    },
    {
      "cell_type": "code",
      "metadata": {
        "id": "Yv1-qvSyLDZR",
        "colab_type": "code",
        "colab": {
          "base_uri": "https://localhost:8080/",
          "height": 34
        },
        "outputId": "1c98dcc5-4ebc-473f-e975-bcaf441cb612"
      },
      "source": [
        "grid.best_params_"
      ],
      "execution_count": 58,
      "outputs": [
        {
          "output_type": "execute_result",
          "data": {
            "text/plain": [
              "{'n_neighbors': 3}"
            ]
          },
          "metadata": {
            "tags": []
          },
          "execution_count": 58
        }
      ]
    },
    {
      "cell_type": "code",
      "metadata": {
        "id": "sSsTEB_GLBvu",
        "colab_type": "code",
        "colab": {
          "base_uri": "https://localhost:8080/",
          "height": 357
        },
        "outputId": "5a80dfa7-381f-4799-d4e4-e30a3322dd7d"
      },
      "source": [
        "grid.cv_results_"
      ],
      "execution_count": 59,
      "outputs": [
        {
          "output_type": "execute_result",
          "data": {
            "text/plain": [
              "{'mean_fit_time': array([0.00465837, 0.00448699, 0.00448413, 0.00458627]),\n",
              " 'mean_score_time': array([0.01358299, 0.01346173, 0.01377573, 0.01411958]),\n",
              " 'mean_test_score': array([0.99432174, 0.99432174, 0.99432174, 0.99337834]),\n",
              " 'param_n_neighbors': masked_array(data=[3, 5, 7, 9],\n",
              "              mask=[False, False, False, False],\n",
              "        fill_value='?',\n",
              "             dtype=object),\n",
              " 'params': [{'n_neighbors': 3},\n",
              "  {'n_neighbors': 5},\n",
              "  {'n_neighbors': 7},\n",
              "  {'n_neighbors': 9}],\n",
              " 'rank_test_score': array([1, 1, 1, 4], dtype=int32),\n",
              " 'split0_test_score': array([0.99528302, 0.99528302, 0.99528302, 0.99528302]),\n",
              " 'split1_test_score': array([0.99528302, 0.99528302, 0.99528302, 0.99056604]),\n",
              " 'split2_test_score': array([1., 1., 1., 1.]),\n",
              " 'split3_test_score': array([0.99052133, 0.99052133, 0.99052133, 0.99052133]),\n",
              " 'split4_test_score': array([0.99052133, 0.99052133, 0.99052133, 0.99052133]),\n",
              " 'std_fit_time': array([3.78166127e-04, 6.57543399e-05, 5.28982864e-05, 2.56324940e-04]),\n",
              " 'std_score_time': array([0.00161767, 0.00024075, 0.00022796, 0.0001682 ]),\n",
              " 'std_test_score': array([0.003549  , 0.003549  , 0.003549  , 0.00378704])}"
            ]
          },
          "metadata": {
            "tags": []
          },
          "execution_count": 59
        }
      ]
    },
    {
      "cell_type": "code",
      "metadata": {
        "id": "ugn8SLQzPvO4",
        "colab_type": "code",
        "colab": {}
      },
      "source": [
        "import pickle\n",
        "pkl_knn = \"/content/drive/My Drive/Smart Health/Assignment3/1106924-kNN.pkl\"\n",
        "pkl_rf = \"/content/drive/My Drive/Smart Health/Assignment3/1106924-RF.pkl\"\n",
        "with open(pkl_knn, 'wb') as file:\n",
        "  pickle.dump(grid, file)"
      ],
      "execution_count": 60,
      "outputs": []
    },
    {
      "cell_type": "code",
      "metadata": {
        "id": "xDC-HU6TbHgT",
        "colab_type": "code",
        "colab": {
          "base_uri": "https://localhost:8080/",
          "height": 551
        },
        "outputId": "d5200b21-120e-426c-9cc8-b0bfc5628dd9"
      },
      "source": [
        "with open(pkl_knn, 'rb') as file:\n",
        "  grid1 = pickle.load(file)\n",
        "x = grid1.predict(X_test_feat)\n",
        "results = show_results(Y_test, x)\n",
        "labels = ['Abdomen', 'Chest', 'Head']\n",
        "plot_confusion_matrix(grid1, X_test_feat, Y_test, display_labels = labels)  # doctest: +SKIP\n",
        "plt.show()"
      ],
      "execution_count": 71,
      "outputs": [
        {
          "output_type": "stream",
          "text": [
            "              precision    recall  f1-score   support\n",
            "\n",
            "           A       1.00      0.99      0.99       152\n",
            "           C       0.99      1.00      0.99       133\n",
            "           H       1.00      1.00      1.00       168\n",
            "\n",
            "    accuracy                           1.00       453\n",
            "   macro avg       1.00      1.00      1.00       453\n",
            "weighted avg       1.00      1.00      1.00       453\n",
            "\n",
            "Accuracy  : 0.9955849889624724\n",
            "Precision : 0.9956503965333988\n",
            "f1Score : 0.9955868436424081\n",
            "[[150   2   0]\n",
            " [  0 133   0]\n",
            " [  0   0 168]]\n"
          ],
          "name": "stdout"
        },
        {
          "output_type": "display_data",
          "data": {
            "image/png": "[encoded data removed]",
            "text/plain": [
              "<Figure size 432x288 with 2 Axes>"
            ]
          },
          "metadata": {
            "tags": [],
            "needs_background": "light"
          }
        }
      ]
    },
    {
      "cell_type": "code",
      "metadata": {
        "id": "iXKqreF6Q7pH",
        "colab_type": "code",
        "colab": {}
      },
      "source": [
        "rf_model = RandomForestClassifier()\n",
        "random_grid = {'n_estimators': [int(x) for x in np.linspace(start = 50, stop = 200, num = 10)],\n",
        "               'max_depth': [int(x) for x in np.linspace(5, 25, num = 5)],\n",
        "               'bootstrap': [True, False]\n",
        "               }\n",
        "rf_random = RandomizedSearchCV(estimator =rf_model, \n",
        "                               param_distributions = random_grid, \n",
        "                               n_iter = 25, cv = 5)"
      ],
      "execution_count": 62,
      "outputs": []
    },
    {
      "cell_type": "code",
      "metadata": {
        "id": "uF7PIgAhT1M6",
        "colab_type": "code",
        "colab": {
          "base_uri": "https://localhost:8080/",
          "height": 493
        },
        "outputId": "599e6abb-4594-4068-ab33-691816edf38b"
      },
      "source": [
        "rf_random.fit(X_train_feat, Y_train)"
      ],
      "execution_count": 63,
      "outputs": [
        {
          "output_type": "execute_result",
          "data": {
            "text/plain": [
              "RandomizedSearchCV(cv=5, error_score=nan,\n",
              "                   estimator=RandomForestClassifier(bootstrap=True,\n",
              "                                                    ccp_alpha=0.0,\n",
              "                                                    class_weight=None,\n",
              "                                                    criterion='gini',\n",
              "                                                    max_depth=None,\n",
              "                                                    max_features='auto',\n",
              "                                                    max_leaf_nodes=None,\n",
              "                                                    max_samples=None,\n",
              "                                                    min_impurity_decrease=0.0,\n",
              "                                                    min_impurity_split=None,\n",
              "                                                    min_samples_leaf=1,\n",
              "                                                    min_samples_split=2,\n",
              "                                                    min_weight_fraction_leaf=0.0,\n",
              "                                                    n_estimators=100,\n",
              "                                                    n_jobs=None,\n",
              "                                                    oob_score=False,\n",
              "                                                    random_state=None,\n",
              "                                                    verbose=0,\n",
              "                                                    warm_start=False),\n",
              "                   iid='deprecated', n_iter=25, n_jobs=None,\n",
              "                   param_distributions={'bootstrap': [True, False],\n",
              "                                        'max_depth': [5, 10, 15, 20, 25],\n",
              "                                        'n_estimators': [50, 66, 83, 100, 116,\n",
              "                                                         133, 150, 166, 183,\n",
              "                                                         200]},\n",
              "                   pre_dispatch='2*n_jobs', random_state=None, refit=True,\n",
              "                   return_train_score=False, scoring=None, verbose=0)"
            ]
          },
          "metadata": {
            "tags": []
          },
          "execution_count": 63
        }
      ]
    },
    {
      "cell_type": "code",
      "metadata": {
        "id": "3nqlm6XSLJJC",
        "colab_type": "code",
        "colab": {
          "base_uri": "https://localhost:8080/",
          "height": 34
        },
        "outputId": "68dae172-3588-4f03-c8b8-55ab9e5a4911"
      },
      "source": [
        "rf_random.best_params_"
      ],
      "execution_count": 64,
      "outputs": [
        {
          "output_type": "execute_result",
          "data": {
            "text/plain": [
              "{'bootstrap': False, 'max_depth': 20, 'n_estimators': 200}"
            ]
          },
          "metadata": {
            "tags": []
          },
          "execution_count": 64
        }
      ]
    },
    {
      "cell_type": "code",
      "metadata": {
        "id": "1T028BwgQgTi",
        "colab_type": "code",
        "colab": {}
      },
      "source": [
        "with open(pkl_rf, 'wb') as file:\n",
        "  pickle.dump(rf_random, file)"
      ],
      "execution_count": 65,
      "outputs": []
    },
    {
      "cell_type": "code",
      "metadata": {
        "id": "67aXd0KNbXMf",
        "colab_type": "code",
        "colab": {
          "base_uri": "https://localhost:8080/",
          "height": 551
        },
        "outputId": "80eb5e1c-1bfb-42b8-90b7-90e23125f23d"
      },
      "source": [
        "with open(pkl_rf, 'rb') as file:\n",
        "  rf_random1 = pickle.load(file)\n",
        "\n",
        "predictions = rf_random1.predict(X_test_feat)\n",
        "show_results(Y_test, predictions)\n",
        "labels = ['Abdomen', 'Chest', 'Head']\n",
        "plot_confusion_matrix(grid1, X_test_feat, Y_test, display_labels = labels)  # doctest: +SKIP\n",
        "plt.show()"
      ],
      "execution_count": 72,
      "outputs": [
        {
          "output_type": "stream",
          "text": [
            "              precision    recall  f1-score   support\n",
            "\n",
            "           A       1.00      1.00      1.00       152\n",
            "           C       1.00      1.00      1.00       133\n",
            "           H       1.00      1.00      1.00       168\n",
            "\n",
            "    accuracy                           1.00       453\n",
            "   macro avg       1.00      1.00      1.00       453\n",
            "weighted avg       1.00      1.00      1.00       453\n",
            "\n",
            "Accuracy  : 1.0\n",
            "Precision : 1.0\n",
            "f1Score : 1.0\n",
            "[[152   0   0]\n",
            " [  0 133   0]\n",
            " [  0   0 168]]\n"
          ],
          "name": "stdout"
        },
        {
          "output_type": "display_data",
          "data": {
            "image/png": "[encoded data removed]",
            "text/plain": [
              "<Figure size 432x288 with 2 Axes>"
            ]
          },
          "metadata": {
            "tags": [],
            "needs_background": "light"
          }
        }
      ]
    }
  ]
}